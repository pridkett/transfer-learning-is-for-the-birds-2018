{
 "cells": [
  {
   "cell_type": "markdown",
   "metadata": {
    "slideshow": {
     "slide_type": "slide"
    }
   },
   "source": [
    "# Transfer Learning is for the Birds\n",
    "\n",
    "Patrick Wagstrom <patrick@wagstrom.net>\n",
    "\n",
    "May 2018\n",
    "\n",
    "## Project Abstract\n",
    "\n",
    "One of the most popular applications of deep learning is for image classification. To get a truly great classifier, most applications require networks with dozen of different layers that may take weeks to train on a distributed cluster of GPUs. This cost makes the prospect of an individual training a high accuracy custom classifier daunting, at best. However, there is another way. Transfer learning with deep learning neural networks allows you to take advantage of most of the feature detection inherent in a complex deep learning neural network without the extensive training times. In this talk I'll share the beginning of training and collecting data for a custom classifier in a different domain - identification of common birds. It will cover the basics of neural networks, transfer learning, and show how to apply transfer learning to pre-trained image classification networks from Google to achieve high precision classifiers with small amounts of training time.\n",
    "\n",
    "## Project Background\n",
    "This is a simple project that I'm using to try and generate some models to automatically classify the different birds that visit the various feeders in my yard.\n",
    "\n",
    "Useful references:\n",
    "* https://github.com/EdjeElectronics/TensorFlow-Object-Detection-API-Tutorial-Train-Multiple-Objects-Windows-10\n",
    "* https://github.com/tzutalin/labelImg\n",
    "* https://codelabs.developers.google.com/codelabs/tensorflow-for-poets/#3"
   ]
  },
  {
   "cell_type": "markdown",
   "metadata": {},
   "source": [
    "# Overview\n",
    "\n",
    "* Four General Problems in AI\n",
    "* A Tiny Bit about Neural Networks\n",
    "* Using ImageNet\n",
    "* A Tiny Bit about Transfer Learning\n",
    "\n",
    "* High Level General Problem\n",
    "* Getting Started Quickly - Caltech-UCSD Birds Data Set\n",
    "* Transfer Learning for CUB Data\n",
    "* Exploring the CUB Data\n",
    "  - Potential Problems with the CUB Data\n",
    "* Capturing Your Own Data\n",
    "* Tagging the Data with labelImg\n",
    "* Training Your Own Model\n",
    "* Potential Challenges\n",
    "  - Biased Sampling\n",
    "  - Rare Bird Species"
   ]
  },
  {
   "cell_type": "markdown",
   "metadata": {},
   "source": [
    "# Four General Problems in AI\n",
    "\n",
    "* Regression\n",
    "* Clustering\n",
    "* Dimensionality Reduction\n",
    "* Classification"
   ]
  },
  {
   "cell_type": "markdown",
   "metadata": {},
   "source": [
    "# Two General Data Strategies\n",
    "\n",
    "* Supervised\n",
    "* Unsupervised"
   ]
  },
  {
   "cell_type": "markdown",
   "metadata": {},
   "source": [
    "# Neural Networks\n",
    "\n",
    "A neural network a machine learning model that happens to be really good at classifying objects. Fundamentally, it consists of a number of different cells that each work on a small amount of data.\n",
    "\n",
    "<img src=\"images/neural network.png\">"
   ]
  },
  {
   "cell_type": "markdown",
   "metadata": {},
   "source": [
    "<img src=\"images/inception architecture.png\">\n",
    "<!-- image from: https://hackathonprojects.files.wordpress.com/2016/09/74911-image03.png via https://hacktilldawn.com/2016/09/25/inception-modules-explained-and-implemented/ -->"
   ]
  },
  {
   "cell_type": "markdown",
   "metadata": {},
   "source": [
    "# Using MobileNet\n",
    "\n",
    "For a lot more detail, check out [An Analysis of Deep Neural Networks for Practical Applications](https://arxiv.org/abs/1605.07678), which contains an analysis of the different network architectures and compares their top-1 accuracy against computational complexity and memory needed."
   ]
  },
  {
   "cell_type": "markdown",
   "metadata": {},
   "source": [
    "## MobileNet Performance vs Computational Complexity\n",
    "\n",
    "<table border=\"1\" cellpadding=\"1\" cellspacing=\"0\" style=\"width: 100%;\"><tbody><tr> <td><div style=\"background-color: lightblue; text-align: center;\"><b>Model Checkpoint</b></div></td> <td><div style=\"background-color: lightblue; text-align: center;\"><b>Million MACs</b></div></td> <td><div style=\"background-color: lightblue; text-align: center;\"><b>Million Parameters</b></div></td> <td><div style=\"background-color: lightblue; text-align: center;\"><b>Top-1 Accuracy</b></div></td> <td><div style=\"background-color: lightblue; text-align: center;\"><b>Top-5 Accuracy</b></div></td> </tr><tr> <td><div style=\"background-color: orange; text-align: center;\"><a href=\"http://download.tensorflow.org/models/mobilenet_v1_1.0_224_2017_06_14.tar.gz\">MobileNet_v1_1.0_224</a></div></td> <td><div style=\"text-align: center;\">569</div></td> <td><div style=\"text-align: center;\">4.24</div></td> <td><div style=\"text-align: center;\">70.7</div></td> <td><div style=\"text-align: center;\">89.5</div></td> </tr><tr> <td><div style=\"background-color: orange; text-align: center;\"><a href=\"http://download.tensorflow.org/models/mobilenet_v1_1.0_192_2017_06_14.tar.gz\">MobileNet_v1_1.0_192</a></div></td> <td><div style=\"text-align: center;\">418</div></td> <td><div style=\"text-align: center;\">4.24</div></td> <td><div style=\"text-align: center;\">69.3</div></td> <td><div style=\"text-align: center;\">88.9</div></td> </tr><tr> <td><div style=\"background-color: orange; text-align: center;\"><a href=\"http://download.tensorflow.org/models/mobilenet_v1_1.0_160_2017_06_14.tar.gz\">MobileNet_v1_1.0_160</a></div></td> <td><div style=\"text-align: center;\">291</div></td> <td><div style=\"text-align: center;\">4.24</div></td> <td><div style=\"text-align: center;\">67.2</div></td> <td><div style=\"text-align: center;\">87.5</div></td> </tr><tr> <td><div style=\"background-color: orange; text-align: center;\"><a href=\"http://download.tensorflow.org/models/mobilenet_v1_1.0_128_2017_06_14.tar.gz\">MobileNet_v1_1.0_128</a></div></td> <td><div style=\"text-align: center;\">186</div></td> <td><div style=\"text-align: center;\">4.24</div></td> <td><div style=\"text-align: center;\">64.1</div></td> <td><div style=\"text-align: center;\">85.3</div></td> </tr><tr> <td><div style=\"background-color: orange; text-align: center;\"><a href=\"http://http//download.tensorflow.org/models/mobilenet_v1_0.75_224_2017_06_14.tar.gz\">MobileNet_v1_0.75_224</a></div></td> <td><div style=\"text-align: center;\">317</div></td> <td><div style=\"text-align: center;\">2.59</div></td> <td><div style=\"text-align: center;\">68.4</div></td> <td><div style=\"text-align: center;\">88.2</div></td> </tr><tr> <td><div style=\"background-color: orange; text-align: center;\"><a href=\"http://download.tensorflow.org/models/mobilenet_v1_0.75_192_2017_06_14.tar.gz\">MobileNet_v1_0.75_192</a></div></td> <td><div style=\"text-align: center;\">233</div></td> <td><div style=\"text-align: center;\">2.59</div></td> <td><div style=\"text-align: center;\">67.4</div></td> <td><div style=\"text-align: center;\">87.3</div></td> </tr><tr> <td><div style=\"background-color: orange; text-align: center;\"><a href=\"http://download.tensorflow.org/models/mobilenet_v1_0.75_160_2017_06_14.tar.gz\">MobileNet_v1_0.75_160</a></div></td> <td><div style=\"text-align: center;\">162</div></td> <td><div style=\"text-align: center;\">2.59</div></td> <td><div style=\"text-align: center;\">65.2</div></td> <td><div style=\"text-align: center;\">86.1</div></td> </tr><tr> <td><div style=\"background-color: orange; text-align: center;\"><a href=\"http://download.tensorflow.org/models/mobilenet_v1_0.75_128_2017_06_14.tar.gz\">MobileNet_v1_0.75_128</a></div></td> <td><div style=\"text-align: center;\">104</div></td> <td><div style=\"text-align: center;\">2.59</div></td> <td><div style=\"text-align: center;\">61.8</div></td> <td><div style=\"text-align: center;\">83.6</div></td> </tr><tr> <td><div style=\"background-color: orange; text-align: center;\"><a href=\"http://download.tensorflow.org/models/mobilenet_v1_0.50_224_2017_06_14.tar.gz\">MobileNet_v1_0.50_224</a></div></td> <td><div style=\"text-align: center;\">150</div></td> <td><div style=\"text-align: center;\">1.34</div></td> <td><div style=\"text-align: center;\">64.0</div></td> <td><div style=\"text-align: center;\">85.4</div></td> </tr><tr> <td><div style=\"background-color: orange; text-align: center;\"><a href=\"http://download.tensorflow.org/models/mobilenet_v1_0.50_192_2017_06_14.tar.gz\">MobileNet_v1_0.50_192</a></div></td> <td><div style=\"text-align: center;\">110</div></td> <td><div style=\"text-align: center;\">1.34</div></td> <td><div style=\"text-align: center;\">62.1</div></td> <td><div style=\"text-align: center;\">84.0</div></td> </tr><tr> <td><div style=\"background-color: orange; text-align: center;\"><a href=\"http://download.tensorflow.org/models/mobilenet_v1_0.50_160_2017_06_14.tar.gz\">MobileNet_v1_0.50_160</a></div></td> <td><div style=\"text-align: center;\">77</div></td> <td><div style=\"text-align: center;\">1.34</div></td> <td><div style=\"text-align: center;\">59.9</div></td> <td><div style=\"text-align: center;\">82.5</div></td> </tr><tr> <td><div style=\"background-color: orange; text-align: center;\"><a href=\"http://download.tensorflow.org/models/mobilenet_v1_0.50_128_2017_06_14.tar.gz\">MobileNet_v1_0.50_128</a></div></td> <td><div style=\"text-align: center;\">49</div></td> <td><div style=\"text-align: center;\">1.34</div></td> <td><div style=\"text-align: center;\">56.2</div></td> <td><div style=\"text-align: center;\">79.6</div></td> </tr><tr> <td><div style=\"background-color: orange; text-align: center;\"><a href=\"http://download.tensorflow.org/models/mobilenet_v1_0.25_224_2017_06_14.tar.gz\">MobileNet_v1_0.25_224</a></div></td> <td><div style=\"text-align: center;\">41</div></td> <td><div style=\"text-align: center;\">0.47</div></td> <td><div style=\"text-align: center;\">50.6</div></td> <td><div style=\"text-align: center;\">75.0</div></td> </tr><tr> <td><div style=\"background-color: orange; text-align: center;\"><a href=\"http://download.tensorflow.org/models/mobilenet_v1_0.25_192_2017_06_14.tar.gz\">MobileNet_v1_0.25_192</a></div></td> <td><div style=\"text-align: center;\">34</div></td> <td><div style=\"text-align: center;\">0.47</div></td> <td><div style=\"text-align: center;\">49.0</div></td> <td><div style=\"text-align: center;\">73.6</div></td> </tr><tr> <td><div style=\"background-color: orange; text-align: center;\"><a href=\"http://download.tensorflow.org/models/mobilenet_v1_0.25_160_2017_06_14.tar.gz\">MobileNet_v1_0.25_160</a></div></td> <td><div style=\"text-align: center;\">21</div></td> <td><div style=\"text-align: center;\">0.47</div></td> <td><div style=\"text-align: center;\">46.0</div></td> <td><div style=\"text-align: center;\">70.7</div></td> </tr><tr> <td><div style=\"background-color: orange; text-align: center;\"><a href=\"http://download.tensorflow.org/models/mobilenet_v1_0.25_128_2017_06_14.tar.gz\">MobileNet_v1_0.25_128</a></div></td> <td><div style=\"text-align: center;\">14</div></td> <td><div style=\"text-align: center;\">0.47</div></td> <td><div style=\"text-align: center;\">41.3</div></td> <td><div style=\"text-align: center;\">66.2</div></td></tr></tbody></table>\n",
    "<div style=\"text-align: center;\">From <a href=\"https://ai.googleblog.com/2017/06/mobilenets-open-source-models-for.html\">https://ai.googleblog.com/2017/06/mobilenets-open-source-models-for.html</a></div>"
   ]
  },
  {
   "cell_type": "markdown",
   "metadata": {},
   "source": [
    "# Prepping the environment"
   ]
  },
  {
   "cell_type": "code",
   "execution_count": 1,
   "metadata": {},
   "outputs": [],
   "source": [
    "from tqdm import tqdm_notebook as tqdm\n",
    "import os\n",
    "from typing import Mapping, Any\n",
    "\n",
    "import pandas as pd\n",
    "import matplotlib.pyplot as plt\n",
    "import matplotlib.patches as patches\n",
    "from PIL import Image\n",
    "import numpy as np\n",
    "import ipywidgets as widgets\n",
    "from ipywidgets import interact"
   ]
  },
  {
   "cell_type": "code",
   "execution_count": 2,
   "metadata": {},
   "outputs": [],
   "source": [
    "DATA_DIR = 'CUB/CUB_200_2011'"
   ]
  },
  {
   "cell_type": "code",
   "execution_count": 3,
   "metadata": {},
   "outputs": [
    {
     "data": {
      "text/html": [
       "<div>\n",
       "<style scoped>\n",
       "    .dataframe tbody tr th:only-of-type {\n",
       "        vertical-align: middle;\n",
       "    }\n",
       "\n",
       "    .dataframe tbody tr th {\n",
       "        vertical-align: top;\n",
       "    }\n",
       "\n",
       "    .dataframe thead th {\n",
       "        text-align: right;\n",
       "    }\n",
       "</style>\n",
       "<table border=\"1\" class=\"dataframe\">\n",
       "  <thead>\n",
       "    <tr style=\"text-align: right;\">\n",
       "      <th></th>\n",
       "      <th>id</th>\n",
       "      <th>filename</th>\n",
       "      <th>set</th>\n",
       "      <th>class_id</th>\n",
       "      <th>bb_x</th>\n",
       "      <th>bb_y</th>\n",
       "      <th>bb_width</th>\n",
       "      <th>bb_height</th>\n",
       "      <th>class_name</th>\n",
       "    </tr>\n",
       "  </thead>\n",
       "  <tbody>\n",
       "    <tr>\n",
       "      <th>0</th>\n",
       "      <td>1</td>\n",
       "      <td>CUB/CUB_200_2011/images/001.Black_footed_Albat...</td>\n",
       "      <td>0</td>\n",
       "      <td>1</td>\n",
       "      <td>60.0</td>\n",
       "      <td>27.0</td>\n",
       "      <td>325.0</td>\n",
       "      <td>304.0</td>\n",
       "      <td>001.Black_footed_Albatross</td>\n",
       "    </tr>\n",
       "    <tr>\n",
       "      <th>1</th>\n",
       "      <td>2</td>\n",
       "      <td>CUB/CUB_200_2011/images/001.Black_footed_Albat...</td>\n",
       "      <td>1</td>\n",
       "      <td>1</td>\n",
       "      <td>139.0</td>\n",
       "      <td>30.0</td>\n",
       "      <td>153.0</td>\n",
       "      <td>264.0</td>\n",
       "      <td>001.Black_footed_Albatross</td>\n",
       "    </tr>\n",
       "    <tr>\n",
       "      <th>2</th>\n",
       "      <td>3</td>\n",
       "      <td>CUB/CUB_200_2011/images/001.Black_footed_Albat...</td>\n",
       "      <td>0</td>\n",
       "      <td>1</td>\n",
       "      <td>14.0</td>\n",
       "      <td>112.0</td>\n",
       "      <td>388.0</td>\n",
       "      <td>186.0</td>\n",
       "      <td>001.Black_footed_Albatross</td>\n",
       "    </tr>\n",
       "    <tr>\n",
       "      <th>3</th>\n",
       "      <td>4</td>\n",
       "      <td>CUB/CUB_200_2011/images/001.Black_footed_Albat...</td>\n",
       "      <td>1</td>\n",
       "      <td>1</td>\n",
       "      <td>112.0</td>\n",
       "      <td>90.0</td>\n",
       "      <td>255.0</td>\n",
       "      <td>242.0</td>\n",
       "      <td>001.Black_footed_Albatross</td>\n",
       "    </tr>\n",
       "    <tr>\n",
       "      <th>4</th>\n",
       "      <td>5</td>\n",
       "      <td>CUB/CUB_200_2011/images/001.Black_footed_Albat...</td>\n",
       "      <td>1</td>\n",
       "      <td>1</td>\n",
       "      <td>70.0</td>\n",
       "      <td>50.0</td>\n",
       "      <td>134.0</td>\n",
       "      <td>303.0</td>\n",
       "      <td>001.Black_footed_Albatross</td>\n",
       "    </tr>\n",
       "  </tbody>\n",
       "</table>\n",
       "</div>"
      ],
      "text/plain": [
       "   id                                           filename  set  class_id  \\\n",
       "0   1  CUB/CUB_200_2011/images/001.Black_footed_Albat...    0         1   \n",
       "1   2  CUB/CUB_200_2011/images/001.Black_footed_Albat...    1         1   \n",
       "2   3  CUB/CUB_200_2011/images/001.Black_footed_Albat...    0         1   \n",
       "3   4  CUB/CUB_200_2011/images/001.Black_footed_Albat...    1         1   \n",
       "4   5  CUB/CUB_200_2011/images/001.Black_footed_Albat...    1         1   \n",
       "\n",
       "    bb_x   bb_y  bb_width  bb_height                  class_name  \n",
       "0   60.0   27.0     325.0      304.0  001.Black_footed_Albatross  \n",
       "1  139.0   30.0     153.0      264.0  001.Black_footed_Albatross  \n",
       "2   14.0  112.0     388.0      186.0  001.Black_footed_Albatross  \n",
       "3  112.0   90.0     255.0      242.0  001.Black_footed_Albatross  \n",
       "4   70.0   50.0     134.0      303.0  001.Black_footed_Albatross  "
      ]
     },
     "execution_count": 3,
     "metadata": {},
     "output_type": "execute_result"
    }
   ],
   "source": [
    "test_train = pd.read_table(os.path.join(DATA_DIR, \"train_test_split.txt\"), names=[\"id\", \"set\"], sep=\" \")\n",
    "image_classes = pd.read_table(os.path.join(DATA_DIR, \"image_class_labels.txt\"), names=[\"id\", \"class_id\"], sep=\" \")\n",
    "classes = pd.read_table(os.path.join(DATA_DIR, \"classes.txt\"), names=[\"class_id\", \"class_name\"], sep=\" \")\n",
    "images = pd.read_table(os.path.join(DATA_DIR, \"images.txt\"), names=[\"id\", \"filename\"], sep=\" \")\n",
    "bounding_boxes = pd.read_table(os.path.join(DATA_DIR, \"bounding_boxes.txt\"), names=[\"id\", \"bb_x\", \"bb_y\", \"bb_width\", \"bb_height\"], sep=\" \")\n",
    "images = images.merge(test_train, on=\"id\")\n",
    "images = images.merge(image_classes, on=\"id\")\n",
    "images = images.merge(bounding_boxes, on=\"id\")\n",
    "images = images.merge(classes, on=\"class_id\")\n",
    "images[\"filename\"] = images[\"filename\"].map(lambda x: os.path.join(DATA_DIR, \"images\", x))\n",
    "images.head()"
   ]
  },
  {
   "cell_type": "code",
   "execution_count": 6,
   "metadata": {},
   "outputs": [],
   "source": [
    "def show_row(row: Mapping[str, Any]):\n",
    "    im = np.array(Image.open(row[\"filename\"]), dtype=np.uint8)\n",
    "\n",
    "    # Create figure and axes\n",
    "    fig,ax = plt.subplots(1)\n",
    "\n",
    "    # Display the image\n",
    "    ax.imshow(im)\n",
    "\n",
    "    # Create a Rectangle patch\n",
    "    rect = patches.Rectangle((row[\"bb_x\"], row[\"bb_y\"]),\n",
    "                             row[\"bb_width\"], row[\"bb_height\"],\n",
    "                             linewidth=3,edgecolor='r',facecolor='none')\n",
    "\n",
    "    # Add the patch to the Axes\n",
    "    ax.add_patch(rect)\n",
    "    ax.set_axis_off()\n",
    "    \n",
    "    plt.title(row[\"class_name\"])\n",
    "    plt.show()"
   ]
  },
  {
   "cell_type": "code",
   "execution_count": 7,
   "metadata": {},
   "outputs": [
    {
     "data": {
      "application/vnd.jupyter.widget-view+json": {
       "model_id": "0be2cf56b2cb4dfb98d44d8e2fd7ccfb",
       "version_major": 2,
       "version_minor": 0
      },
      "text/plain": [
       "interactive(children=(IntSlider(value=5893, description='i', max=11787), Output()), _dom_classes=('widget-inte…"
      ]
     },
     "metadata": {},
     "output_type": "display_data"
    },
    {
     "data": {
      "text/plain": [
       "<function __main__.slider_plot(i)>"
      ]
     },
     "execution_count": 7,
     "metadata": {},
     "output_type": "execute_result"
    }
   ],
   "source": [
    "def slider_plot(i):\n",
    "    show_row(images.iloc[[i]].squeeze())\n",
    "\n",
    "interact(slider_plot, i=(0, images.shape[0]-1))"
   ]
  },
  {
   "cell_type": "markdown",
   "metadata": {},
   "source": [
    "# Using ImageNet"
   ]
  },
  {
   "cell_type": "markdown",
   "metadata": {},
   "source": [
    "# A Tiny Bit About Transfer Learning"
   ]
  }
 ],
 "metadata": {
  "celltoolbar": "Slideshow",
  "kernelspec": {
   "display_name": "Python 3",
   "language": "python",
   "name": "python3"
  },
  "language_info": {
   "codemirror_mode": {
    "name": "ipython",
    "version": 3
   },
   "file_extension": ".py",
   "mimetype": "text/x-python",
   "name": "python",
   "nbconvert_exporter": "python",
   "pygments_lexer": "ipython3",
   "version": "3.6.5"
  }
 },
 "nbformat": 4,
 "nbformat_minor": 2
}
